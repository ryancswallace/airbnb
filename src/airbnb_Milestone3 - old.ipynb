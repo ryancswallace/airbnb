{
 "cells": [
  {
   "cell_type": "markdown",
   "metadata": {},
   "source": [
    "# Airbnb Pricing Prediction: Milestone 3\n",
    "**James Gearheart**<br>\n",
    "**Danny Zhuang**<br>\n",
    "**Bob Saludo**<br>\n",
    "**Ryan Wallace**<br><br>\n",
    "**Harvard University**<br>\n",
    "**Fall 2016**<br>\n",
    "**TF: Christine Hwang**<br>\n",
    "**Due Date: ** Saturday, November 5th, 2016"
   ]
  },
  {
   "cell_type": "markdown",
   "metadata": {},
   "source": [
    "---"
   ]
  },
  {
   "cell_type": "code",
   "execution_count": 46,
   "metadata": {
    "collapsed": true
   },
   "outputs": [],
   "source": [
    "# import necessary libraries\n",
    "import csv\n",
    "import datetime\n",
    "import operator\n",
    "from mpl_toolkits.mplot3d import Axes3D\n",
    "import numpy as np\n",
    "import pandas as pd\n",
    "import matplotlib\n",
    "import matplotlib.pyplot as plt\n",
    "from sklearn.linear_model import LinearRegression as LinReg\n",
    "%matplotlib inline"
   ]
  },
  {
   "cell_type": "markdown",
   "metadata": {},
   "source": [
    "---"
   ]
  },
  {
   "cell_type": "markdown",
   "metadata": {},
   "source": [
    "## Read and Format Data"
   ]
  },
  {
   "cell_type": "code",
   "execution_count": 47,
   "metadata": {
    "collapsed": false
   },
   "outputs": [],
   "source": [
    "# remove commas from prices in calendar CSV\n",
    "with open('datasets/calendar.csv', 'rb') as f, open('datasets/calendar_cleaned.csv', 'wb') as g:\n",
    "    writer = csv.writer(g, delimiter=',')\n",
    "    for line in f:\n",
    "        # split into four columns\n",
    "        row = line.split(',', 3)\n",
    "        writer.writerow(row)\n",
    "        \n",
    "# read the three datasets\n",
    "listings_df = pd.read_csv('datasets/listings.csv', delimiter=',')\n",
    "reviews_df = pd.read_csv('datasets/reviews.csv', delimiter=',')\n",
    "calendar_df = pd.read_csv('datasets/calendar_cleaned.csv')"
   ]
  },
  {
   "cell_type": "code",
   "execution_count": 48,
   "metadata": {
    "collapsed": false
   },
   "outputs": [
    {
     "name": "stdout",
     "output_type": "stream",
     "text": [
      "listings dataframe: \n",
      "\n"
     ]
    },
    {
     "data": {
      "text/html": [
       "<div>\n",
       "<table border=\"1\" class=\"dataframe\">\n",
       "  <thead>\n",
       "    <tr style=\"text-align: right;\">\n",
       "      <th></th>\n",
       "      <th>id</th>\n",
       "      <th>scrape_id</th>\n",
       "      <th>last_scraped</th>\n",
       "      <th>name</th>\n",
       "      <th>picture_url</th>\n",
       "      <th>host_id</th>\n",
       "      <th>host_name</th>\n",
       "      <th>host_since</th>\n",
       "      <th>host_picture_url</th>\n",
       "      <th>street</th>\n",
       "      <th>...</th>\n",
       "      <th>first_review</th>\n",
       "      <th>last_review</th>\n",
       "      <th>review_scores_rating</th>\n",
       "      <th>review_scores_accuracy</th>\n",
       "      <th>review_scores_cleanliness</th>\n",
       "      <th>review_scores_checkin</th>\n",
       "      <th>review_scores_communication</th>\n",
       "      <th>review_scores_location</th>\n",
       "      <th>review_scores_value</th>\n",
       "      <th>host_listing_count</th>\n",
       "    </tr>\n",
       "  </thead>\n",
       "  <tbody>\n",
       "    <tr>\n",
       "      <th>0</th>\n",
       "      <td>1069266</td>\n",
       "      <td>2.015010e+13</td>\n",
       "      <td>1/2/15</td>\n",
       "      <td>Stay like a real New Yorker!</td>\n",
       "      <td>https://a0.muscache.com/pictures/50276484/larg...</td>\n",
       "      <td>5867023</td>\n",
       "      <td>Michael</td>\n",
       "      <td>4/10/13</td>\n",
       "      <td>https://a2.muscache.com/ic/users/5867023/profi...</td>\n",
       "      <td>East 53rd Street, New York, NY 10022, United S...</td>\n",
       "      <td>...</td>\n",
       "      <td>4/28/13</td>\n",
       "      <td>12/17/14</td>\n",
       "      <td>86.0</td>\n",
       "      <td>9.0</td>\n",
       "      <td>7.0</td>\n",
       "      <td>9.0</td>\n",
       "      <td>9.0</td>\n",
       "      <td>10.0</td>\n",
       "      <td>9.0</td>\n",
       "      <td>1</td>\n",
       "    </tr>\n",
       "    <tr>\n",
       "      <th>1</th>\n",
       "      <td>1846722</td>\n",
       "      <td>2.015010e+13</td>\n",
       "      <td>1/2/15</td>\n",
       "      <td>Apartment 20 Minutes Times Square</td>\n",
       "      <td>https://a1.muscache.com/pictures/35865039/larg...</td>\n",
       "      <td>2631556</td>\n",
       "      <td>Denise</td>\n",
       "      <td>6/13/12</td>\n",
       "      <td>https://a2.muscache.com/ic/users/2631556/profi...</td>\n",
       "      <td>West 155th Street, New York, NY, United States</td>\n",
       "      <td>...</td>\n",
       "      <td>1/5/14</td>\n",
       "      <td>12/29/14</td>\n",
       "      <td>85.0</td>\n",
       "      <td>8.0</td>\n",
       "      <td>8.0</td>\n",
       "      <td>9.0</td>\n",
       "      <td>8.0</td>\n",
       "      <td>7.0</td>\n",
       "      <td>8.0</td>\n",
       "      <td>2</td>\n",
       "    </tr>\n",
       "    <tr>\n",
       "      <th>2</th>\n",
       "      <td>2061725</td>\n",
       "      <td>2.015010e+13</td>\n",
       "      <td>1/2/15</td>\n",
       "      <td>Option of 2 Beds w Private Bathroom</td>\n",
       "      <td>https://a2.muscache.com/pictures/50650147/larg...</td>\n",
       "      <td>4601412</td>\n",
       "      <td>Miao</td>\n",
       "      <td>1/5/13</td>\n",
       "      <td>https://a0.muscache.com/ic/users/4601412/profi...</td>\n",
       "      <td>Van Buren Street, Brooklyn, NY 11221, United S...</td>\n",
       "      <td>...</td>\n",
       "      <td>2/4/14</td>\n",
       "      <td>12/29/14</td>\n",
       "      <td>98.0</td>\n",
       "      <td>10.0</td>\n",
       "      <td>10.0</td>\n",
       "      <td>10.0</td>\n",
       "      <td>10.0</td>\n",
       "      <td>9.0</td>\n",
       "      <td>10.0</td>\n",
       "      <td>4</td>\n",
       "    </tr>\n",
       "    <tr>\n",
       "      <th>3</th>\n",
       "      <td>44974</td>\n",
       "      <td>2.015010e+13</td>\n",
       "      <td>1/3/15</td>\n",
       "      <td>Charming Bright West Village Studio</td>\n",
       "      <td>https://a1.muscache.com/pictures/20489905/larg...</td>\n",
       "      <td>198425</td>\n",
       "      <td>Sara</td>\n",
       "      <td>8/11/10</td>\n",
       "      <td>https://a0.muscache.com/ic/users/198425/profil...</td>\n",
       "      <td>Greenwich Ave, New York, NY 10011, United States</td>\n",
       "      <td>...</td>\n",
       "      <td>10/8/10</td>\n",
       "      <td>10/30/14</td>\n",
       "      <td>96.0</td>\n",
       "      <td>10.0</td>\n",
       "      <td>9.0</td>\n",
       "      <td>10.0</td>\n",
       "      <td>10.0</td>\n",
       "      <td>10.0</td>\n",
       "      <td>9.0</td>\n",
       "      <td>1</td>\n",
       "    </tr>\n",
       "    <tr>\n",
       "      <th>4</th>\n",
       "      <td>4701675</td>\n",
       "      <td>2.015010e+13</td>\n",
       "      <td>1/2/15</td>\n",
       "      <td>Charming Apartment in Chelsea</td>\n",
       "      <td>https://a2.muscache.com/pictures/60588955/larg...</td>\n",
       "      <td>22590025</td>\n",
       "      <td>Charles</td>\n",
       "      <td>10/15/14</td>\n",
       "      <td>https://a2.muscache.com/ic/users/22590025/prof...</td>\n",
       "      <td>West 22nd Street, New York, NY 10011, United S...</td>\n",
       "      <td>...</td>\n",
       "      <td>12/8/14</td>\n",
       "      <td>12/8/14</td>\n",
       "      <td>100.0</td>\n",
       "      <td>10.0</td>\n",
       "      <td>10.0</td>\n",
       "      <td>10.0</td>\n",
       "      <td>10.0</td>\n",
       "      <td>10.0</td>\n",
       "      <td>10.0</td>\n",
       "      <td>1</td>\n",
       "    </tr>\n",
       "  </tbody>\n",
       "</table>\n",
       "<p>5 rows × 52 columns</p>\n",
       "</div>"
      ],
      "text/plain": [
       "        id     scrape_id last_scraped                                 name  \\\n",
       "0  1069266  2.015010e+13       1/2/15        Stay like a real New Yorker!    \n",
       "1  1846722  2.015010e+13       1/2/15    Apartment 20 Minutes Times Square   \n",
       "2  2061725  2.015010e+13       1/2/15  Option of 2 Beds w Private Bathroom   \n",
       "3    44974  2.015010e+13       1/3/15  Charming Bright West Village Studio   \n",
       "4  4701675  2.015010e+13       1/2/15        Charming Apartment in Chelsea   \n",
       "\n",
       "                                         picture_url   host_id host_name  \\\n",
       "0  https://a0.muscache.com/pictures/50276484/larg...   5867023   Michael   \n",
       "1  https://a1.muscache.com/pictures/35865039/larg...   2631556    Denise   \n",
       "2  https://a2.muscache.com/pictures/50650147/larg...   4601412      Miao   \n",
       "3  https://a1.muscache.com/pictures/20489905/larg...    198425      Sara   \n",
       "4  https://a2.muscache.com/pictures/60588955/larg...  22590025   Charles   \n",
       "\n",
       "  host_since                                   host_picture_url  \\\n",
       "0    4/10/13  https://a2.muscache.com/ic/users/5867023/profi...   \n",
       "1    6/13/12  https://a2.muscache.com/ic/users/2631556/profi...   \n",
       "2     1/5/13  https://a0.muscache.com/ic/users/4601412/profi...   \n",
       "3    8/11/10  https://a0.muscache.com/ic/users/198425/profil...   \n",
       "4   10/15/14  https://a2.muscache.com/ic/users/22590025/prof...   \n",
       "\n",
       "                                              street        ...          \\\n",
       "0  East 53rd Street, New York, NY 10022, United S...        ...           \n",
       "1     West 155th Street, New York, NY, United States        ...           \n",
       "2  Van Buren Street, Brooklyn, NY 11221, United S...        ...           \n",
       "3   Greenwich Ave, New York, NY 10011, United States        ...           \n",
       "4  West 22nd Street, New York, NY 10011, United S...        ...           \n",
       "\n",
       "  first_review last_review review_scores_rating review_scores_accuracy  \\\n",
       "0      4/28/13    12/17/14                 86.0                    9.0   \n",
       "1       1/5/14    12/29/14                 85.0                    8.0   \n",
       "2       2/4/14    12/29/14                 98.0                   10.0   \n",
       "3      10/8/10    10/30/14                 96.0                   10.0   \n",
       "4      12/8/14     12/8/14                100.0                   10.0   \n",
       "\n",
       "  review_scores_cleanliness review_scores_checkin review_scores_communication  \\\n",
       "0                       7.0                   9.0                         9.0   \n",
       "1                       8.0                   9.0                         8.0   \n",
       "2                      10.0                  10.0                        10.0   \n",
       "3                       9.0                  10.0                        10.0   \n",
       "4                      10.0                  10.0                        10.0   \n",
       "\n",
       "   review_scores_location  review_scores_value host_listing_count  \n",
       "0                    10.0                  9.0                  1  \n",
       "1                     7.0                  8.0                  2  \n",
       "2                     9.0                 10.0                  4  \n",
       "3                    10.0                  9.0                  1  \n",
       "4                    10.0                 10.0                  1  \n",
       "\n",
       "[5 rows x 52 columns]"
      ]
     },
     "execution_count": 48,
     "metadata": {},
     "output_type": "execute_result"
    }
   ],
   "source": [
    "print 'listings dataframe: \\n'\n",
    "listings_df.head()"
   ]
  },
  {
   "cell_type": "code",
   "execution_count": 49,
   "metadata": {
    "collapsed": false
   },
   "outputs": [
    {
     "name": "stdout",
     "output_type": "stream",
     "text": [
      "reviews dataframe: \n",
      "\n"
     ]
    },
    {
     "data": {
      "text/html": [
       "<div>\n",
       "<table border=\"1\" class=\"dataframe\">\n",
       "  <thead>\n",
       "    <tr style=\"text-align: right;\">\n",
       "      <th></th>\n",
       "      <th>listing_id</th>\n",
       "      <th>id</th>\n",
       "      <th>date</th>\n",
       "      <th>reviewer_id</th>\n",
       "      <th>reviewer_name</th>\n",
       "      <th>comments</th>\n",
       "    </tr>\n",
       "  </thead>\n",
       "  <tbody>\n",
       "    <tr>\n",
       "      <th>0</th>\n",
       "      <td>1180670</td>\n",
       "      <td>14705995</td>\n",
       "      <td>2014-06-24</td>\n",
       "      <td>10875598</td>\n",
       "      <td>Gregory</td>\n",
       "      <td>Ok, if you like the location and don't mind an...</td>\n",
       "    </tr>\n",
       "    <tr>\n",
       "      <th>1</th>\n",
       "      <td>4457617</td>\n",
       "      <td>24432844</td>\n",
       "      <td>2014-12-28</td>\n",
       "      <td>24502047</td>\n",
       "      <td>Amber</td>\n",
       "      <td>Kleine süße WG, super gelegen, sehr freundlich...</td>\n",
       "    </tr>\n",
       "    <tr>\n",
       "      <th>2</th>\n",
       "      <td>722394</td>\n",
       "      <td>9248781</td>\n",
       "      <td>2013-12-16</td>\n",
       "      <td>6821360</td>\n",
       "      <td>Giri</td>\n",
       "      <td>Extremely disappointed.</td>\n",
       "    </tr>\n",
       "    <tr>\n",
       "      <th>3</th>\n",
       "      <td>4074444</td>\n",
       "      <td>23983183</td>\n",
       "      <td>2014-12-15</td>\n",
       "      <td>8822691</td>\n",
       "      <td>Wendy</td>\n",
       "      <td>Exactly as described.</td>\n",
       "    </tr>\n",
       "    <tr>\n",
       "      <th>4</th>\n",
       "      <td>68046</td>\n",
       "      <td>11797670</td>\n",
       "      <td>2014-04-15</td>\n",
       "      <td>12231047</td>\n",
       "      <td>Virginie</td>\n",
       "      <td>Appartement très sympa, accueillant. A quelque...</td>\n",
       "    </tr>\n",
       "  </tbody>\n",
       "</table>\n",
       "</div>"
      ],
      "text/plain": [
       "   listing_id        id        date  reviewer_id reviewer_name  \\\n",
       "0     1180670  14705995  2014-06-24     10875598       Gregory   \n",
       "1     4457617  24432844  2014-12-28     24502047         Amber   \n",
       "2      722394   9248781  2013-12-16      6821360          Giri   \n",
       "3     4074444  23983183  2014-12-15      8822691         Wendy   \n",
       "4       68046  11797670  2014-04-15     12231047      Virginie   \n",
       "\n",
       "                                            comments  \n",
       "0  Ok, if you like the location and don't mind an...  \n",
       "1  Kleine süße WG, super gelegen, sehr freundlich...  \n",
       "2                            Extremely disappointed.  \n",
       "3                              Exactly as described.  \n",
       "4  Appartement très sympa, accueillant. A quelque...  "
      ]
     },
     "execution_count": 49,
     "metadata": {},
     "output_type": "execute_result"
    }
   ],
   "source": [
    "print 'reviews dataframe: \\n'\n",
    "reviews_df.head()"
   ]
  },
  {
   "cell_type": "code",
   "execution_count": 50,
   "metadata": {
    "collapsed": false
   },
   "outputs": [
    {
     "name": "stdout",
     "output_type": "stream",
     "text": [
      "calendar dataframe: \n",
      "\n"
     ]
    },
    {
     "data": {
      "text/html": [
       "<div>\n",
       "<table border=\"1\" class=\"dataframe\">\n",
       "  <thead>\n",
       "    <tr style=\"text-align: right;\">\n",
       "      <th></th>\n",
       "      <th>\"listing_id\"</th>\n",
       "      <th>\"date\"</th>\n",
       "      <th>\"available\"</th>\n",
       "      <th>\"price\"</th>\n",
       "    </tr>\n",
       "  </thead>\n",
       "  <tbody>\n",
       "    <tr>\n",
       "      <th>0</th>\n",
       "      <td>3604481</td>\n",
       "      <td>\"2015-01-01\"</td>\n",
       "      <td>t</td>\n",
       "      <td>$600.00\\n</td>\n",
       "    </tr>\n",
       "    <tr>\n",
       "      <th>1</th>\n",
       "      <td>3604481</td>\n",
       "      <td>\"2015-01-02\"</td>\n",
       "      <td>t</td>\n",
       "      <td>$600.00\\n</td>\n",
       "    </tr>\n",
       "    <tr>\n",
       "      <th>2</th>\n",
       "      <td>3604481</td>\n",
       "      <td>\"2015-01-03\"</td>\n",
       "      <td>t</td>\n",
       "      <td>$600.00\\n</td>\n",
       "    </tr>\n",
       "    <tr>\n",
       "      <th>3</th>\n",
       "      <td>3604481</td>\n",
       "      <td>\"2015-01-04\"</td>\n",
       "      <td>t</td>\n",
       "      <td>$600.00\\n</td>\n",
       "    </tr>\n",
       "    <tr>\n",
       "      <th>4</th>\n",
       "      <td>3604481</td>\n",
       "      <td>\"2015-01-05\"</td>\n",
       "      <td>t</td>\n",
       "      <td>$600.00\\n</td>\n",
       "    </tr>\n",
       "  </tbody>\n",
       "</table>\n",
       "</div>"
      ],
      "text/plain": [
       "   \"listing_id\"        \"date\" \"available\"  \"price\"\\n\n",
       "0       3604481  \"2015-01-01\"           t  $600.00\\n\n",
       "1       3604481  \"2015-01-02\"           t  $600.00\\n\n",
       "2       3604481  \"2015-01-03\"           t  $600.00\\n\n",
       "3       3604481  \"2015-01-04\"           t  $600.00\\n\n",
       "4       3604481  \"2015-01-05\"           t  $600.00\\n"
      ]
     },
     "execution_count": 50,
     "metadata": {},
     "output_type": "execute_result"
    }
   ],
   "source": [
    "print 'calendar dataframe: \\n'\n",
    "calendar_df.head()"
   ]
  },
  {
   "cell_type": "code",
   "execution_count": 51,
   "metadata": {
    "collapsed": true
   },
   "outputs": [],
   "source": [
    "# method to smartly convert price strings to floats\n",
    "def convert_float(val):\n",
    "    try:\n",
    "        if type(val) == float:\n",
    "            return val\n",
    "        else:\n",
    "            return float(val.strip('[\\$\\n]').replace(',',''))\n",
    "    except ValueError:\n",
    "        return np.nan"
   ]
  },
  {
   "cell_type": "code",
   "execution_count": 52,
   "metadata": {
    "collapsed": false
   },
   "outputs": [],
   "source": [
    "# fix wonky formatting of data and field names\n",
    "# remove surronding parens and newlines from column names\n",
    "old_columns = listings_df.columns.values \n",
    "new_columns = [col.replace('\"', '').replace('\\n','') for col in old_columns] \n",
    "listings_df.columns = new_columns\n",
    "\n",
    "old_columns = reviews_df.columns.values \n",
    "new_columns = [col.replace('\"', '').replace('\\n','') for col in old_columns] \n",
    "reviews_df.columns = new_columns\n",
    "\n",
    "old_columns = calendar_df.columns.values \n",
    "new_columns = [col.replace('\"', '').replace('\\n','') for col in old_columns] \n",
    "calendar_df.columns = new_columns\n",
    "\n",
    "# remove parens around date in calendar_df\n",
    "calendar_df['date'] = calendar_df['date'].apply(lambda x: x.replace('\"', ''))\n",
    "\n",
    "# change t and f to 1 and 0 in calendar_df\n",
    "calendar_df['available'] = calendar_df['available'].apply(lambda x: 1 if x == 't' else 0 if x == 'f' else np.nan)\n",
    "\n",
    "# change string types to floats when possible\n",
    "listings_df['price'] = listings_df['price'].apply(lambda x: convert_float(x))\n",
    "listings_df['weekly_price'] = listings_df['weekly_price'].apply(lambda x: convert_float(x))\n",
    "listings_df['monthly_price'] = listings_df['monthly_price'].apply(lambda x: convert_float(x))\n",
    "calendar_df['price'] = calendar_df['price'].apply(lambda x: convert_float(x))"
   ]
  },
  {
   "cell_type": "code",
   "execution_count": 53,
   "metadata": {
    "collapsed": false
   },
   "outputs": [
    {
     "name": "stdout",
     "output_type": "stream",
     "text": [
      "listings dataframe: \n",
      "\n"
     ]
    },
    {
     "data": {
      "text/html": [
       "<div>\n",
       "<table border=\"1\" class=\"dataframe\">\n",
       "  <thead>\n",
       "    <tr style=\"text-align: right;\">\n",
       "      <th></th>\n",
       "      <th>id</th>\n",
       "      <th>scrape_id</th>\n",
       "      <th>last_scraped</th>\n",
       "      <th>name</th>\n",
       "      <th>picture_url</th>\n",
       "      <th>host_id</th>\n",
       "      <th>host_name</th>\n",
       "      <th>host_since</th>\n",
       "      <th>host_picture_url</th>\n",
       "      <th>street</th>\n",
       "      <th>...</th>\n",
       "      <th>first_review</th>\n",
       "      <th>last_review</th>\n",
       "      <th>review_scores_rating</th>\n",
       "      <th>review_scores_accuracy</th>\n",
       "      <th>review_scores_cleanliness</th>\n",
       "      <th>review_scores_checkin</th>\n",
       "      <th>review_scores_communication</th>\n",
       "      <th>review_scores_location</th>\n",
       "      <th>review_scores_value</th>\n",
       "      <th>host_listing_count</th>\n",
       "    </tr>\n",
       "  </thead>\n",
       "  <tbody>\n",
       "    <tr>\n",
       "      <th>0</th>\n",
       "      <td>1069266</td>\n",
       "      <td>2.015010e+13</td>\n",
       "      <td>1/2/15</td>\n",
       "      <td>Stay like a real New Yorker!</td>\n",
       "      <td>https://a0.muscache.com/pictures/50276484/larg...</td>\n",
       "      <td>5867023</td>\n",
       "      <td>Michael</td>\n",
       "      <td>4/10/13</td>\n",
       "      <td>https://a2.muscache.com/ic/users/5867023/profi...</td>\n",
       "      <td>East 53rd Street, New York, NY 10022, United S...</td>\n",
       "      <td>...</td>\n",
       "      <td>4/28/13</td>\n",
       "      <td>12/17/14</td>\n",
       "      <td>86.0</td>\n",
       "      <td>9.0</td>\n",
       "      <td>7.0</td>\n",
       "      <td>9.0</td>\n",
       "      <td>9.0</td>\n",
       "      <td>10.0</td>\n",
       "      <td>9.0</td>\n",
       "      <td>1</td>\n",
       "    </tr>\n",
       "    <tr>\n",
       "      <th>1</th>\n",
       "      <td>1846722</td>\n",
       "      <td>2.015010e+13</td>\n",
       "      <td>1/2/15</td>\n",
       "      <td>Apartment 20 Minutes Times Square</td>\n",
       "      <td>https://a1.muscache.com/pictures/35865039/larg...</td>\n",
       "      <td>2631556</td>\n",
       "      <td>Denise</td>\n",
       "      <td>6/13/12</td>\n",
       "      <td>https://a2.muscache.com/ic/users/2631556/profi...</td>\n",
       "      <td>West 155th Street, New York, NY, United States</td>\n",
       "      <td>...</td>\n",
       "      <td>1/5/14</td>\n",
       "      <td>12/29/14</td>\n",
       "      <td>85.0</td>\n",
       "      <td>8.0</td>\n",
       "      <td>8.0</td>\n",
       "      <td>9.0</td>\n",
       "      <td>8.0</td>\n",
       "      <td>7.0</td>\n",
       "      <td>8.0</td>\n",
       "      <td>2</td>\n",
       "    </tr>\n",
       "    <tr>\n",
       "      <th>2</th>\n",
       "      <td>2061725</td>\n",
       "      <td>2.015010e+13</td>\n",
       "      <td>1/2/15</td>\n",
       "      <td>Option of 2 Beds w Private Bathroom</td>\n",
       "      <td>https://a2.muscache.com/pictures/50650147/larg...</td>\n",
       "      <td>4601412</td>\n",
       "      <td>Miao</td>\n",
       "      <td>1/5/13</td>\n",
       "      <td>https://a0.muscache.com/ic/users/4601412/profi...</td>\n",
       "      <td>Van Buren Street, Brooklyn, NY 11221, United S...</td>\n",
       "      <td>...</td>\n",
       "      <td>2/4/14</td>\n",
       "      <td>12/29/14</td>\n",
       "      <td>98.0</td>\n",
       "      <td>10.0</td>\n",
       "      <td>10.0</td>\n",
       "      <td>10.0</td>\n",
       "      <td>10.0</td>\n",
       "      <td>9.0</td>\n",
       "      <td>10.0</td>\n",
       "      <td>4</td>\n",
       "    </tr>\n",
       "    <tr>\n",
       "      <th>3</th>\n",
       "      <td>44974</td>\n",
       "      <td>2.015010e+13</td>\n",
       "      <td>1/3/15</td>\n",
       "      <td>Charming Bright West Village Studio</td>\n",
       "      <td>https://a1.muscache.com/pictures/20489905/larg...</td>\n",
       "      <td>198425</td>\n",
       "      <td>Sara</td>\n",
       "      <td>8/11/10</td>\n",
       "      <td>https://a0.muscache.com/ic/users/198425/profil...</td>\n",
       "      <td>Greenwich Ave, New York, NY 10011, United States</td>\n",
       "      <td>...</td>\n",
       "      <td>10/8/10</td>\n",
       "      <td>10/30/14</td>\n",
       "      <td>96.0</td>\n",
       "      <td>10.0</td>\n",
       "      <td>9.0</td>\n",
       "      <td>10.0</td>\n",
       "      <td>10.0</td>\n",
       "      <td>10.0</td>\n",
       "      <td>9.0</td>\n",
       "      <td>1</td>\n",
       "    </tr>\n",
       "    <tr>\n",
       "      <th>4</th>\n",
       "      <td>4701675</td>\n",
       "      <td>2.015010e+13</td>\n",
       "      <td>1/2/15</td>\n",
       "      <td>Charming Apartment in Chelsea</td>\n",
       "      <td>https://a2.muscache.com/pictures/60588955/larg...</td>\n",
       "      <td>22590025</td>\n",
       "      <td>Charles</td>\n",
       "      <td>10/15/14</td>\n",
       "      <td>https://a2.muscache.com/ic/users/22590025/prof...</td>\n",
       "      <td>West 22nd Street, New York, NY 10011, United S...</td>\n",
       "      <td>...</td>\n",
       "      <td>12/8/14</td>\n",
       "      <td>12/8/14</td>\n",
       "      <td>100.0</td>\n",
       "      <td>10.0</td>\n",
       "      <td>10.0</td>\n",
       "      <td>10.0</td>\n",
       "      <td>10.0</td>\n",
       "      <td>10.0</td>\n",
       "      <td>10.0</td>\n",
       "      <td>1</td>\n",
       "    </tr>\n",
       "  </tbody>\n",
       "</table>\n",
       "<p>5 rows × 52 columns</p>\n",
       "</div>"
      ],
      "text/plain": [
       "        id     scrape_id last_scraped                                 name  \\\n",
       "0  1069266  2.015010e+13       1/2/15        Stay like a real New Yorker!    \n",
       "1  1846722  2.015010e+13       1/2/15    Apartment 20 Minutes Times Square   \n",
       "2  2061725  2.015010e+13       1/2/15  Option of 2 Beds w Private Bathroom   \n",
       "3    44974  2.015010e+13       1/3/15  Charming Bright West Village Studio   \n",
       "4  4701675  2.015010e+13       1/2/15        Charming Apartment in Chelsea   \n",
       "\n",
       "                                         picture_url   host_id host_name  \\\n",
       "0  https://a0.muscache.com/pictures/50276484/larg...   5867023   Michael   \n",
       "1  https://a1.muscache.com/pictures/35865039/larg...   2631556    Denise   \n",
       "2  https://a2.muscache.com/pictures/50650147/larg...   4601412      Miao   \n",
       "3  https://a1.muscache.com/pictures/20489905/larg...    198425      Sara   \n",
       "4  https://a2.muscache.com/pictures/60588955/larg...  22590025   Charles   \n",
       "\n",
       "  host_since                                   host_picture_url  \\\n",
       "0    4/10/13  https://a2.muscache.com/ic/users/5867023/profi...   \n",
       "1    6/13/12  https://a2.muscache.com/ic/users/2631556/profi...   \n",
       "2     1/5/13  https://a0.muscache.com/ic/users/4601412/profi...   \n",
       "3    8/11/10  https://a0.muscache.com/ic/users/198425/profil...   \n",
       "4   10/15/14  https://a2.muscache.com/ic/users/22590025/prof...   \n",
       "\n",
       "                                              street        ...          \\\n",
       "0  East 53rd Street, New York, NY 10022, United S...        ...           \n",
       "1     West 155th Street, New York, NY, United States        ...           \n",
       "2  Van Buren Street, Brooklyn, NY 11221, United S...        ...           \n",
       "3   Greenwich Ave, New York, NY 10011, United States        ...           \n",
       "4  West 22nd Street, New York, NY 10011, United S...        ...           \n",
       "\n",
       "  first_review last_review review_scores_rating review_scores_accuracy  \\\n",
       "0      4/28/13    12/17/14                 86.0                    9.0   \n",
       "1       1/5/14    12/29/14                 85.0                    8.0   \n",
       "2       2/4/14    12/29/14                 98.0                   10.0   \n",
       "3      10/8/10    10/30/14                 96.0                   10.0   \n",
       "4      12/8/14     12/8/14                100.0                   10.0   \n",
       "\n",
       "  review_scores_cleanliness review_scores_checkin review_scores_communication  \\\n",
       "0                       7.0                   9.0                         9.0   \n",
       "1                       8.0                   9.0                         8.0   \n",
       "2                      10.0                  10.0                        10.0   \n",
       "3                       9.0                  10.0                        10.0   \n",
       "4                      10.0                  10.0                        10.0   \n",
       "\n",
       "   review_scores_location  review_scores_value host_listing_count  \n",
       "0                    10.0                  9.0                  1  \n",
       "1                     7.0                  8.0                  2  \n",
       "2                     9.0                 10.0                  4  \n",
       "3                    10.0                  9.0                  1  \n",
       "4                    10.0                 10.0                  1  \n",
       "\n",
       "[5 rows x 52 columns]"
      ]
     },
     "execution_count": 53,
     "metadata": {},
     "output_type": "execute_result"
    }
   ],
   "source": [
    "print 'listings dataframe: \\n'\n",
    "listings_df.head()"
   ]
  },
  {
   "cell_type": "code",
   "execution_count": 54,
   "metadata": {
    "collapsed": false
   },
   "outputs": [
    {
     "name": "stdout",
     "output_type": "stream",
     "text": [
      "reviews dataframe: \n",
      "\n"
     ]
    },
    {
     "data": {
      "text/html": [
       "<div>\n",
       "<table border=\"1\" class=\"dataframe\">\n",
       "  <thead>\n",
       "    <tr style=\"text-align: right;\">\n",
       "      <th></th>\n",
       "      <th>listing_id</th>\n",
       "      <th>id</th>\n",
       "      <th>date</th>\n",
       "      <th>reviewer_id</th>\n",
       "      <th>reviewer_name</th>\n",
       "      <th>comments</th>\n",
       "    </tr>\n",
       "  </thead>\n",
       "  <tbody>\n",
       "    <tr>\n",
       "      <th>0</th>\n",
       "      <td>1180670</td>\n",
       "      <td>14705995</td>\n",
       "      <td>2014-06-24</td>\n",
       "      <td>10875598</td>\n",
       "      <td>Gregory</td>\n",
       "      <td>Ok, if you like the location and don't mind an...</td>\n",
       "    </tr>\n",
       "    <tr>\n",
       "      <th>1</th>\n",
       "      <td>4457617</td>\n",
       "      <td>24432844</td>\n",
       "      <td>2014-12-28</td>\n",
       "      <td>24502047</td>\n",
       "      <td>Amber</td>\n",
       "      <td>Kleine süße WG, super gelegen, sehr freundlich...</td>\n",
       "    </tr>\n",
       "    <tr>\n",
       "      <th>2</th>\n",
       "      <td>722394</td>\n",
       "      <td>9248781</td>\n",
       "      <td>2013-12-16</td>\n",
       "      <td>6821360</td>\n",
       "      <td>Giri</td>\n",
       "      <td>Extremely disappointed.</td>\n",
       "    </tr>\n",
       "    <tr>\n",
       "      <th>3</th>\n",
       "      <td>4074444</td>\n",
       "      <td>23983183</td>\n",
       "      <td>2014-12-15</td>\n",
       "      <td>8822691</td>\n",
       "      <td>Wendy</td>\n",
       "      <td>Exactly as described.</td>\n",
       "    </tr>\n",
       "    <tr>\n",
       "      <th>4</th>\n",
       "      <td>68046</td>\n",
       "      <td>11797670</td>\n",
       "      <td>2014-04-15</td>\n",
       "      <td>12231047</td>\n",
       "      <td>Virginie</td>\n",
       "      <td>Appartement très sympa, accueillant. A quelque...</td>\n",
       "    </tr>\n",
       "  </tbody>\n",
       "</table>\n",
       "</div>"
      ],
      "text/plain": [
       "   listing_id        id        date  reviewer_id reviewer_name  \\\n",
       "0     1180670  14705995  2014-06-24     10875598       Gregory   \n",
       "1     4457617  24432844  2014-12-28     24502047         Amber   \n",
       "2      722394   9248781  2013-12-16      6821360          Giri   \n",
       "3     4074444  23983183  2014-12-15      8822691         Wendy   \n",
       "4       68046  11797670  2014-04-15     12231047      Virginie   \n",
       "\n",
       "                                            comments  \n",
       "0  Ok, if you like the location and don't mind an...  \n",
       "1  Kleine süße WG, super gelegen, sehr freundlich...  \n",
       "2                            Extremely disappointed.  \n",
       "3                              Exactly as described.  \n",
       "4  Appartement très sympa, accueillant. A quelque...  "
      ]
     },
     "execution_count": 54,
     "metadata": {},
     "output_type": "execute_result"
    }
   ],
   "source": [
    "print 'reviews dataframe: \\n'\n",
    "reviews_df.head()"
   ]
  },
  {
   "cell_type": "code",
   "execution_count": 55,
   "metadata": {
    "collapsed": false
   },
   "outputs": [
    {
     "name": "stdout",
     "output_type": "stream",
     "text": [
      "calendar dataframe: \n",
      "\n"
     ]
    },
    {
     "data": {
      "text/html": [
       "<div>\n",
       "<table border=\"1\" class=\"dataframe\">\n",
       "  <thead>\n",
       "    <tr style=\"text-align: right;\">\n",
       "      <th></th>\n",
       "      <th>listing_id</th>\n",
       "      <th>date</th>\n",
       "      <th>available</th>\n",
       "      <th>price</th>\n",
       "    </tr>\n",
       "  </thead>\n",
       "  <tbody>\n",
       "    <tr>\n",
       "      <th>0</th>\n",
       "      <td>3604481</td>\n",
       "      <td>2015-01-01</td>\n",
       "      <td>1</td>\n",
       "      <td>600.0</td>\n",
       "    </tr>\n",
       "    <tr>\n",
       "      <th>1</th>\n",
       "      <td>3604481</td>\n",
       "      <td>2015-01-02</td>\n",
       "      <td>1</td>\n",
       "      <td>600.0</td>\n",
       "    </tr>\n",
       "    <tr>\n",
       "      <th>2</th>\n",
       "      <td>3604481</td>\n",
       "      <td>2015-01-03</td>\n",
       "      <td>1</td>\n",
       "      <td>600.0</td>\n",
       "    </tr>\n",
       "    <tr>\n",
       "      <th>3</th>\n",
       "      <td>3604481</td>\n",
       "      <td>2015-01-04</td>\n",
       "      <td>1</td>\n",
       "      <td>600.0</td>\n",
       "    </tr>\n",
       "    <tr>\n",
       "      <th>4</th>\n",
       "      <td>3604481</td>\n",
       "      <td>2015-01-05</td>\n",
       "      <td>1</td>\n",
       "      <td>600.0</td>\n",
       "    </tr>\n",
       "  </tbody>\n",
       "</table>\n",
       "</div>"
      ],
      "text/plain": [
       "   listing_id        date  available  price\n",
       "0     3604481  2015-01-01          1  600.0\n",
       "1     3604481  2015-01-02          1  600.0\n",
       "2     3604481  2015-01-03          1  600.0\n",
       "3     3604481  2015-01-04          1  600.0\n",
       "4     3604481  2015-01-05          1  600.0"
      ]
     },
     "execution_count": 55,
     "metadata": {},
     "output_type": "execute_result"
    }
   ],
   "source": [
    "print 'calendar dataframe: \\n'\n",
    "calendar_df.head()"
   ]
  },
  {
   "cell_type": "code",
   "execution_count": 56,
   "metadata": {
    "collapsed": false
   },
   "outputs": [
    {
     "name": "stdout",
     "output_type": "stream",
     "text": [
      "Listings Data: \n",
      "number of listings:  27392\n",
      "\n",
      "Calendar Data: \n",
      "number of listing-dates:  9998080\n",
      "number of distinct listings on calendar:  27392\n",
      "number of dates on calendar per listing:  365\n",
      "\n",
      "Reviews Data: \n",
      "number of reviews:  277659\n",
      "number of distinct listings reviewed:  19028\n"
     ]
    }
   ],
   "source": [
    "# examine size of data\n",
    "print 'Listings Data: \\nnumber of listings: ', listings_df.shape[0]\n",
    "\n",
    "print '\\nCalendar Data: \\nnumber of listing-dates: ', calendar_df.shape[0]\n",
    "print 'number of distinct listings on calendar: ', len(calendar_df['listing_id'].value_counts())\n",
    "print 'number of dates on calendar per listing: ', calendar_df.shape[0] / len(calendar_df['listing_id'].value_counts())\n",
    "\n",
    "print '\\nReviews Data: \\nnumber of reviews: ', reviews_df.shape[0]\n",
    "print 'number of distinct listings reviewed: ', len(reviews_df['listing_id'].value_counts())"
   ]
  },
  {
   "cell_type": "code",
   "execution_count": 57,
   "metadata": {
    "collapsed": false
   },
   "outputs": [
    {
     "name": "stdout",
     "output_type": "stream",
     "text": [
      "Listings Missing Data:\n",
      "\tneighbourhood: 2027, 7.0%\n",
      "\tstate: 2, 0.0%\n",
      "\tzipcode: 162, 1.0%\n",
      "\tcountry: 1, 0.0%\n",
      "\tproperty_type: 6, 0.0%\n",
      "\tbathrooms: 463, 2.0%\n",
      "\tbedrooms: 140, 1.0%\n",
      "\tbeds: 98, 0.0%\n",
      "\tsquare_feet: 26386, 96.0%\n",
      "\tweekly_price: 15374, 56.0%\n",
      "\tmonthly_price: 17558, 64.0%\n",
      "\tfirst_review: 8364, 31.0%\n",
      "\tlast_review: 8364, 31.0%\n",
      "\treview_scores_rating: 8657, 32.0%\n",
      "\treview_scores_accuracy: 8727, 32.0%\n",
      "\treview_scores_cleanliness: 8731, 32.0%\n",
      "\treview_scores_checkin: 8729, 32.0%\n",
      "\treview_scores_communication: 8731, 32.0%\n",
      "\treview_scores_location: 8732, 32.0%\n",
      "\treview_scores_value: 8734, 32.0%\n",
      "\n",
      "Calendar Missing Data:\n",
      "\tprice: 2796197, 28.0%\n",
      "\n",
      "Reviews Missing Data:\n",
      "\tcomments: 164, 0.0%\n"
     ]
    }
   ],
   "source": [
    "# determine which values features have missing data\n",
    "print 'Listings Missing Data:'\n",
    "for feature in listings_df.columns.values:\n",
    "    num_nulls = sum(listings_df[feature].isnull())\n",
    "    if num_nulls != 0:\n",
    "        print '\\t' + feature + ': ' + str(num_nulls) + ', ' + str(round(100 * float(num_nulls) / float(len(listings_df[feature])))) + '%'\n",
    "        \n",
    "print '\\nCalendar Missing Data:'\n",
    "for feature in calendar_df.columns.values:\n",
    "    num_nulls = sum(calendar_df[feature].isnull())\n",
    "    if num_nulls != 0:\n",
    "        print '\\t' + feature + ': ' + str(num_nulls) + ', ' + str(round(100 * float(num_nulls) / float(len(calendar_df[feature])))) + '%'\n",
    "   \n",
    "print '\\nReviews Missing Data:'\n",
    "for feature in reviews_df.columns.values:\n",
    "    num_nulls = sum(reviews_df[feature].isnull())\n",
    "    if num_nulls != 0:\n",
    "        print '\\t' + feature + ': ' + str(num_nulls) + ', ' + str(round(100 * float(num_nulls) / float(len(reviews_df[feature])))) + '%'"
   ]
  },
  {
   "cell_type": "code",
   "execution_count": 58,
   "metadata": {
    "collapsed": false
   },
   "outputs": [],
   "source": [
    "# impute missing data\n",
    "# some features can be dropped because they are all the same\n",
    "listings_df = listings_df.drop(['country', 'state'], 1, errors='ignore')\n",
    "\n",
    "# there is so little of some data it is useless\n",
    "listings_df = listings_df.drop(['square_feet'], 1, errors='ignore')\n",
    "\n",
    "# some data is necessary so observations must be dropped\n",
    "calendar_df = calendar_df[pd.notnull(calendar_df['price'])]\n",
    "reviews_df = reviews_df[pd.notnull(reviews_df['comments'])]\n",
    "\n",
    "# review dates are mostly irrelevant \n",
    "listings_df = listings_df.drop(['first_review', 'last_review'], 1, errors='ignore')\n",
    "\n",
    "# neighbourhood, is categorical, so create new 'unspecified' category to avoid biasing results\n",
    "listings_df['neighbourhood'] = listings_df['neighbourhood'].apply(lambda x: \n",
    "    'unspecified' if pd.isnull(x) else x)\n",
    "\n",
    "# impute zipcode and property_type with modes\n",
    "listings_df['zipcode'] = listings_df['zipcode'].apply(lambda x: \n",
    "    11211 if pd.isnull(x) else x)\n",
    "listings_df['property_type'] = listings_df['property_type'].apply(lambda x: \n",
    "    'Apartment' if pd.isnull(x) else x)\n",
    "\n",
    "# weekly and montly price are response variables so missing values can be dropped when \n",
    "# specifically predicting these values\n",
    "\n",
    "# reviews have low correlation with price; no KNN too costly, use means\n",
    "review_scores_rating_mean = np.mean(listings_df['review_scores_rating'])\n",
    "review_scores_accuracy_mean = np.mean(listings_df['review_scores_accuracy'])\n",
    "review_scores_cleanliness_mean = np.mean(listings_df['review_scores_cleanliness'])\n",
    "review_scores_checkin_mean = np.mean(listings_df['review_scores_checkin'])\n",
    "review_scores_communication_mean = np.mean(listings_df['review_scores_communication'])\n",
    "review_scores_location_mean = np.mean(listings_df['review_scores_location'])\n",
    "review_scores_value_mean = np.mean(listings_df['review_scores_value'])\n",
    "\n",
    "listings_df['review_scores_rating'] = listings_df['review_scores_rating'].apply(lambda x: \n",
    "    review_scores_rating_mean if np.isnan(x) else x)\n",
    "listings_df['review_scores_accuracy'] = listings_df['review_scores_accuracy'].apply(lambda x: \n",
    "    review_scores_accuracy_mean if np.isnan(x) else x)\n",
    "listings_df['review_scores_cleanliness'] = listings_df['review_scores_cleanliness'].apply(lambda x: \n",
    "    review_scores_cleanliness_mean if np.isnan(x) else x)\n",
    "listings_df['review_scores_checkin'] = listings_df['review_scores_checkin'].apply(lambda x: \n",
    "    review_scores_checkin_mean if np.isnan(x) else x)\n",
    "listings_df['review_scores_communication'] = listings_df['review_scores_communication'].apply(lambda x: \n",
    "    review_scores_communication_mean if np.isnan(x) else x)\n",
    "listings_df['review_scores_location'] = listings_df['review_scores_location'].apply(lambda x: \n",
    "    review_scores_location_mean if np.isnan(x) else x)\n",
    "listings_df['review_scores_value'] = listings_df['review_scores_value'].apply(lambda x: \n",
    "    review_scores_value_mean if np.isnan(x) else x)\n",
    "\n",
    "# bathrooms, bedrooms, beds have relatively high correlation with price so impute with linear regression\n",
    "for feature in ['bathrooms', 'bedrooms', 'beds']:\n",
    "    model = LinReg()\n",
    "    Xy = listings_df[[feature,'price']]\n",
    "    Xy = Xy[pd.notnull(Xy[feature])]\n",
    "    model.fit(np.array(Xy['price']).reshape(-1, 1), np.array(Xy[feature]))\n",
    "    for index, row in listings_df.iterrows():\n",
    "        if pd.isnull(listings_df.iloc[index][feature]):\n",
    "            listings_df.set_value(index, feature, model.predict(listings_df.iloc[index]['price'])) "
   ]
  },
  {
   "cell_type": "code",
   "execution_count": 59,
   "metadata": {
    "collapsed": false
   },
   "outputs": [
    {
     "name": "stdout",
     "output_type": "stream",
     "text": [
      "Listings Missing Data (after cleaning):\n",
      "\tweekly_price: 15374, 56.0%\n",
      "\tmonthly_price: 17558, 64.0%\n",
      "\n",
      "Calendar Missing Data (after cleaning):\n",
      "\n",
      "Reviews Missing Data (after cleaning):\n"
     ]
    }
   ],
   "source": [
    "# see what missing values remain\n",
    "print 'Listings Missing Data (after cleaning):'\n",
    "for feature in listings_df.columns.values:\n",
    "    num_nulls = sum(listings_df[feature].isnull())\n",
    "    if num_nulls != 0:\n",
    "        print '\\t' + feature + ': ' + str(num_nulls) + ', ' + str(round(100 * float(num_nulls) / float(len(listings_df[feature])))) + '%'\n",
    "        \n",
    "print '\\nCalendar Missing Data (after cleaning):'\n",
    "for feature in calendar_df.columns.values:\n",
    "    num_nulls = sum(calendar_df[feature].isnull())\n",
    "    if num_nulls != 0:\n",
    "        print '\\t' + feature + ': ' + str(num_nulls) + ', ' + str(round(100 * float(num_nulls) / float(len(calendar_df[feature])))) + '%'\n",
    "   \n",
    "print '\\nReviews Missing Data (after cleaning):'\n",
    "for feature in reviews_df.columns.values:\n",
    "    num_nulls = sum(reviews_df[feature].isnull())\n",
    "    if num_nulls != 0:\n",
    "        print '\\t' + feature + ': ' + str(num_nulls) + ', ' + str(round(100 * float(num_nulls) / float(len(reviews_df[feature])))) + '%'\n",
    "   "
   ]
  },
  {
   "cell_type": "code",
   "execution_count": 60,
   "metadata": {
    "collapsed": false
   },
   "outputs": [
    {
     "name": "stdout",
     "output_type": "stream",
     "text": [
      "Listings Data: \n",
      "number of listings (cleaned):  27392\n",
      "\n",
      "Calendar Data: \n",
      "number of listing-dates (cleaned):  7201883\n",
      "number of distinct listings on calendar (cleaned):  26803\n",
      "number of dates on calendar per listing (cleaned):  268\n",
      "\n",
      "Reviews Data: \n",
      "number of reviews (cleaned):  277495\n",
      "number of distinct listings reviewed (cleaned):  19025\n"
     ]
    }
   ],
   "source": [
    "# examine size of data after cleaning\n",
    "print 'Listings Data: \\nnumber of listings (cleaned): ', listings_df.shape[0]\n",
    "\n",
    "print '\\nCalendar Data: \\nnumber of listing-dates (cleaned): ', calendar_df.shape[0]\n",
    "print 'number of distinct listings on calendar (cleaned): ', len(calendar_df['listing_id'].value_counts())\n",
    "print 'number of dates on calendar per listing (cleaned): ', calendar_df.shape[0] / len(calendar_df['listing_id'].value_counts())\n",
    "\n",
    "print '\\nReviews Data: \\nnumber of reviews (cleaned): ', reviews_df.shape[0]\n",
    "print 'number of distinct listings reviewed (cleaned): ', len(reviews_df['listing_id'].value_counts())"
   ]
  },
  {
   "cell_type": "code",
   "execution_count": 18,
   "metadata": {
    "collapsed": false
   },
   "outputs": [
    {
     "name": "stdout",
     "output_type": "stream",
     "text": [
      "combined listing and reviews dataframe: \n",
      "\n"
     ]
    },
    {
     "data": {
      "text/html": [
       "<div>\n",
       "<table border=\"1\" class=\"dataframe\">\n",
       "  <thead>\n",
       "    <tr style=\"text-align: right;\">\n",
       "      <th></th>\n",
       "      <th>listing_id_listing</th>\n",
       "      <th>scrape_id</th>\n",
       "      <th>last_scraped</th>\n",
       "      <th>name</th>\n",
       "      <th>picture_url</th>\n",
       "      <th>host_id</th>\n",
       "      <th>host_name</th>\n",
       "      <th>host_since</th>\n",
       "      <th>host_picture_url</th>\n",
       "      <th>street</th>\n",
       "      <th>...</th>\n",
       "      <th>review_scores_communication</th>\n",
       "      <th>review_scores_location</th>\n",
       "      <th>review_scores_value</th>\n",
       "      <th>host_listing_count</th>\n",
       "      <th>listing_id</th>\n",
       "      <th>id</th>\n",
       "      <th>date</th>\n",
       "      <th>reviewer_id</th>\n",
       "      <th>reviewer_name</th>\n",
       "      <th>comments</th>\n",
       "    </tr>\n",
       "  </thead>\n",
       "  <tbody>\n",
       "    <tr>\n",
       "      <th>0</th>\n",
       "      <td>1069266</td>\n",
       "      <td>2.015010e+13</td>\n",
       "      <td>1/2/15</td>\n",
       "      <td>Stay like a real New Yorker!</td>\n",
       "      <td>https://a0.muscache.com/pictures/50276484/larg...</td>\n",
       "      <td>5867023</td>\n",
       "      <td>Michael</td>\n",
       "      <td>4/10/13</td>\n",
       "      <td>https://a2.muscache.com/ic/users/5867023/profi...</td>\n",
       "      <td>East 53rd Street, New York, NY 10022, United S...</td>\n",
       "      <td>...</td>\n",
       "      <td>9.0</td>\n",
       "      <td>10.0</td>\n",
       "      <td>9.0</td>\n",
       "      <td>1</td>\n",
       "      <td>NaN</td>\n",
       "      <td>NaN</td>\n",
       "      <td>NaN</td>\n",
       "      <td>NaN</td>\n",
       "      <td>NaN</td>\n",
       "      <td>NaN</td>\n",
       "    </tr>\n",
       "    <tr>\n",
       "      <th>1</th>\n",
       "      <td>1846722</td>\n",
       "      <td>2.015010e+13</td>\n",
       "      <td>1/2/15</td>\n",
       "      <td>Apartment 20 Minutes Times Square</td>\n",
       "      <td>https://a1.muscache.com/pictures/35865039/larg...</td>\n",
       "      <td>2631556</td>\n",
       "      <td>Denise</td>\n",
       "      <td>6/13/12</td>\n",
       "      <td>https://a2.muscache.com/ic/users/2631556/profi...</td>\n",
       "      <td>West 155th Street, New York, NY, United States</td>\n",
       "      <td>...</td>\n",
       "      <td>8.0</td>\n",
       "      <td>7.0</td>\n",
       "      <td>8.0</td>\n",
       "      <td>2</td>\n",
       "      <td>NaN</td>\n",
       "      <td>NaN</td>\n",
       "      <td>NaN</td>\n",
       "      <td>NaN</td>\n",
       "      <td>NaN</td>\n",
       "      <td>NaN</td>\n",
       "    </tr>\n",
       "    <tr>\n",
       "      <th>2</th>\n",
       "      <td>2061725</td>\n",
       "      <td>2.015010e+13</td>\n",
       "      <td>1/2/15</td>\n",
       "      <td>Option of 2 Beds w Private Bathroom</td>\n",
       "      <td>https://a2.muscache.com/pictures/50650147/larg...</td>\n",
       "      <td>4601412</td>\n",
       "      <td>Miao</td>\n",
       "      <td>1/5/13</td>\n",
       "      <td>https://a0.muscache.com/ic/users/4601412/profi...</td>\n",
       "      <td>Van Buren Street, Brooklyn, NY 11221, United S...</td>\n",
       "      <td>...</td>\n",
       "      <td>10.0</td>\n",
       "      <td>9.0</td>\n",
       "      <td>10.0</td>\n",
       "      <td>4</td>\n",
       "      <td>NaN</td>\n",
       "      <td>NaN</td>\n",
       "      <td>NaN</td>\n",
       "      <td>NaN</td>\n",
       "      <td>NaN</td>\n",
       "      <td>NaN</td>\n",
       "    </tr>\n",
       "    <tr>\n",
       "      <th>3</th>\n",
       "      <td>44974</td>\n",
       "      <td>2.015010e+13</td>\n",
       "      <td>1/3/15</td>\n",
       "      <td>Charming Bright West Village Studio</td>\n",
       "      <td>https://a1.muscache.com/pictures/20489905/larg...</td>\n",
       "      <td>198425</td>\n",
       "      <td>Sara</td>\n",
       "      <td>8/11/10</td>\n",
       "      <td>https://a0.muscache.com/ic/users/198425/profil...</td>\n",
       "      <td>Greenwich Ave, New York, NY 10011, United States</td>\n",
       "      <td>...</td>\n",
       "      <td>10.0</td>\n",
       "      <td>10.0</td>\n",
       "      <td>9.0</td>\n",
       "      <td>1</td>\n",
       "      <td>871973.0</td>\n",
       "      <td>15182818.0</td>\n",
       "      <td>2014-07-04</td>\n",
       "      <td>15393693.0</td>\n",
       "      <td>Maeva</td>\n",
       "      <td>Very comfortable bed, plenty of room in the dr...</td>\n",
       "    </tr>\n",
       "    <tr>\n",
       "      <th>4</th>\n",
       "      <td>4701675</td>\n",
       "      <td>2.015010e+13</td>\n",
       "      <td>1/2/15</td>\n",
       "      <td>Charming Apartment in Chelsea</td>\n",
       "      <td>https://a2.muscache.com/pictures/60588955/larg...</td>\n",
       "      <td>22590025</td>\n",
       "      <td>Charles</td>\n",
       "      <td>10/15/14</td>\n",
       "      <td>https://a2.muscache.com/ic/users/22590025/prof...</td>\n",
       "      <td>West 22nd Street, New York, NY 10011, United S...</td>\n",
       "      <td>...</td>\n",
       "      <td>10.0</td>\n",
       "      <td>10.0</td>\n",
       "      <td>10.0</td>\n",
       "      <td>1</td>\n",
       "      <td>NaN</td>\n",
       "      <td>NaN</td>\n",
       "      <td>NaN</td>\n",
       "      <td>NaN</td>\n",
       "      <td>NaN</td>\n",
       "      <td>NaN</td>\n",
       "    </tr>\n",
       "  </tbody>\n",
       "</table>\n",
       "<p>5 rows × 53 columns</p>\n",
       "</div>"
      ],
      "text/plain": [
       "   listing_id_listing     scrape_id last_scraped  \\\n",
       "0             1069266  2.015010e+13       1/2/15   \n",
       "1             1846722  2.015010e+13       1/2/15   \n",
       "2             2061725  2.015010e+13       1/2/15   \n",
       "3               44974  2.015010e+13       1/3/15   \n",
       "4             4701675  2.015010e+13       1/2/15   \n",
       "\n",
       "                                  name  \\\n",
       "0        Stay like a real New Yorker!    \n",
       "1    Apartment 20 Minutes Times Square   \n",
       "2  Option of 2 Beds w Private Bathroom   \n",
       "3  Charming Bright West Village Studio   \n",
       "4        Charming Apartment in Chelsea   \n",
       "\n",
       "                                         picture_url   host_id host_name  \\\n",
       "0  https://a0.muscache.com/pictures/50276484/larg...   5867023   Michael   \n",
       "1  https://a1.muscache.com/pictures/35865039/larg...   2631556    Denise   \n",
       "2  https://a2.muscache.com/pictures/50650147/larg...   4601412      Miao   \n",
       "3  https://a1.muscache.com/pictures/20489905/larg...    198425      Sara   \n",
       "4  https://a2.muscache.com/pictures/60588955/larg...  22590025   Charles   \n",
       "\n",
       "  host_since                                   host_picture_url  \\\n",
       "0    4/10/13  https://a2.muscache.com/ic/users/5867023/profi...   \n",
       "1    6/13/12  https://a2.muscache.com/ic/users/2631556/profi...   \n",
       "2     1/5/13  https://a0.muscache.com/ic/users/4601412/profi...   \n",
       "3    8/11/10  https://a0.muscache.com/ic/users/198425/profil...   \n",
       "4   10/15/14  https://a2.muscache.com/ic/users/22590025/prof...   \n",
       "\n",
       "                                              street  \\\n",
       "0  East 53rd Street, New York, NY 10022, United S...   \n",
       "1     West 155th Street, New York, NY, United States   \n",
       "2  Van Buren Street, Brooklyn, NY 11221, United S...   \n",
       "3   Greenwich Ave, New York, NY 10011, United States   \n",
       "4  West 22nd Street, New York, NY 10011, United S...   \n",
       "\n",
       "                         ...                          \\\n",
       "0                        ...                           \n",
       "1                        ...                           \n",
       "2                        ...                           \n",
       "3                        ...                           \n",
       "4                        ...                           \n",
       "\n",
       "  review_scores_communication review_scores_location review_scores_value  \\\n",
       "0                         9.0                   10.0                 9.0   \n",
       "1                         8.0                    7.0                 8.0   \n",
       "2                        10.0                    9.0                10.0   \n",
       "3                        10.0                   10.0                 9.0   \n",
       "4                        10.0                   10.0                10.0   \n",
       "\n",
       "  host_listing_count listing_id          id        date reviewer_id  \\\n",
       "0                  1        NaN         NaN         NaN         NaN   \n",
       "1                  2        NaN         NaN         NaN         NaN   \n",
       "2                  4        NaN         NaN         NaN         NaN   \n",
       "3                  1   871973.0  15182818.0  2014-07-04  15393693.0   \n",
       "4                  1        NaN         NaN         NaN         NaN   \n",
       "\n",
       "  reviewer_name                                           comments  \n",
       "0           NaN                                                NaN  \n",
       "1           NaN                                                NaN  \n",
       "2           NaN                                                NaN  \n",
       "3         Maeva  Very comfortable bed, plenty of room in the dr...  \n",
       "4           NaN                                                NaN  \n",
       "\n",
       "[5 rows x 53 columns]"
      ]
     },
     "execution_count": 18,
     "metadata": {},
     "output_type": "execute_result"
    }
   ],
   "source": [
    "# merge listings and reviews by listing_id - proof of concept\n",
    "# first standardize column name\n",
    "new_columns = listings_df.columns.values \n",
    "new_columns[0] = 'listing_id' \n",
    "listings_df.columns = new_columns\n",
    "\n",
    "# merge listings and reviews (only one per listing) by listing_id\n",
    "# left merge because only reviews with listing info are valuable\n",
    "listings_reviews_df = listings_df.join(reviews_df, on='listing_id', how='left', lsuffix='_listing')\n",
    "    \n",
    "print 'combined listing and reviews dataframe: \\n'\n",
    "listings_reviews_df.head()"
   ]
  },
  {
   "cell_type": "markdown",
   "metadata": {},
   "source": [
    "---"
   ]
  },
  {
   "cell_type": "markdown",
   "metadata": {},
   "source": [
    "## Examine Fields"
   ]
  },
  {
   "cell_type": "code",
   "execution_count": 19,
   "metadata": {
    "collapsed": false
   },
   "outputs": [
    {
     "name": "stdout",
     "output_type": "stream",
     "text": [
      "listings fields:\n",
      "\tlisting_id\n",
      "\tscrape_id\n",
      "\tlast_scraped\n",
      "\tname\n",
      "\tpicture_url\n",
      "\thost_id\n",
      "\thost_name\n",
      "\thost_since\n",
      "\thost_picture_url\n",
      "\tstreet\n",
      "\tneighbourhood\n",
      "\tneighbourhood_cleansed\n",
      "\tcity\n",
      "\tzipcode\n",
      "\tmarket\n",
      "\tlatitude\n",
      "\tlongitude\n",
      "\tis_location_exact\n",
      "\tproperty_type\n",
      "\troom_type\n",
      "\taccommodates\n",
      "\tbathrooms\n",
      "\tbedrooms\n",
      "\tbeds\n",
      "\tbed_type\n",
      "\tprice\n",
      "\tweekly_price\n",
      "\tmonthly_price\n",
      "\tguests_included\n",
      "\textra_people\n",
      "\tminimum_nights\n",
      "\tmaximum_nights\n",
      "\tcalendar_updated\n",
      "\tavailability_30\n",
      "\tavailability_60\n",
      "\tavailability_90\n",
      "\tavailability_365\n",
      "\tcalendar_last_scraped\n",
      "\tnumber_of_reviews\n",
      "\treview_scores_rating\n",
      "\treview_scores_accuracy\n",
      "\treview_scores_cleanliness\n",
      "\treview_scores_checkin\n",
      "\treview_scores_communication\n",
      "\treview_scores_location\n",
      "\treview_scores_value\n",
      "\thost_listing_count\n",
      "\n",
      "calendar fields:\n",
      "\tlisting_id\n",
      "\tdate\n",
      "\tavailable\n",
      "\tprice\n",
      "\n",
      " reviews fields:\n",
      "\tlisting_id\n",
      "\tid\n",
      "\tdate\n",
      "\treviewer_id\n",
      "\treviewer_name\n",
      "\tcomments\n"
     ]
    }
   ],
   "source": [
    "# investigate fields\n",
    "print 'listings fields:\\n',\n",
    "for field in listings_df.columns.values: print '\\t' + field\n",
    "print '\\ncalendar fields:\\n',\n",
    "for field in calendar_df.columns.values: print '\\t' + field\n",
    "print '\\n reviews fields:\\n',\n",
    "for field in reviews_df.columns.values: print '\\t' + field"
   ]
  },
  {
   "cell_type": "markdown",
   "metadata": {},
   "source": [
    "---"
   ]
  },
  {
   "cell_type": "markdown",
   "metadata": {},
   "source": [
    "## Examine Values\n",
    "### Distribution of Data\n",
    "Let's first investigate the spread of individual variables of interest."
   ]
  },
  {
   "cell_type": "code",
   "execution_count": 20,
   "metadata": {
    "collapsed": false
   },
   "outputs": [],
   "source": [
    "# plots a simple histogram of the data, x.\n",
    "def plot_histogram(x, title, ax, num_bins):\n",
    "    # Plot data\n",
    "    ax.hist(x, bins=num_bins)\n",
    "    \n",
    "    # Label axes, set title\n",
    "    ax.set_title(title)\n",
    "    ax.set_xlabel('Value')\n",
    "    ax.set_ylabel('Frequency')\n",
    "\n",
    "    return ax"
   ]
  },
  {
   "cell_type": "code",
   "execution_count": 21,
   "metadata": {
    "collapsed": false
   },
   "outputs": [
    {
     "data": {
      "image/png": "[encoded data removed]",
      "text/plain": [
       "<matplotlib.figure.Figure at 0x11a42c810>"
      ]
     },
     "metadata": {},
     "output_type": "display_data"
    }
   ],
   "source": [
    "# np arrays for numerical series\n",
    "price = [val for val in np.array(listings_df['price']) if ~np.isnan(val)]\n",
    "weekly_price = [val for val in np.array(listings_df['weekly_price']) if ~np.isnan(val)]\n",
    "monthly_price = [val for val in np.array(listings_df['monthly_price']) if ~np.isnan(val)]\n",
    "\n",
    "# remove out outliers\n",
    "price_out = [p for p in price if p < 600]\n",
    "weekly_price_out = [p for p in weekly_price if p < 5000]\n",
    "monthly_price_out = [p for p in monthly_price if p < 15000]\n",
    "\n",
    "# price related variables\n",
    "fig, ax = plt.subplots(3, 2, figsize=(15, 15))\n",
    "ax[0][0] = plot_histogram(price, 'Prices in Listings Data', ax[0][0], 20)\n",
    "ax[0][1] = plot_histogram(price_out, 'Prices in Listings Data (less outliers)', ax[0][1], 20)\n",
    "\n",
    "ax[1][0] = plot_histogram(weekly_price, 'Weekly Prices in Listings Data', ax[1][0], 20)\n",
    "ax[1][1] = plot_histogram(weekly_price_out, 'Weekly Prices in Listings Data (less outliers)', ax[1][1], 20)\n",
    "\n",
    "ax[2][0] = plot_histogram(monthly_price, 'Monthly Prices in Listings Data', ax[2][0], 20)\n",
    "ax[2][1] = plot_histogram(monthly_price_out, 'Monthly Prices in Listings Data (less outliers)', ax[2][1], 20)\n",
    "plt.tight_layout()\n",
    "plt.show()"
   ]
  },
  {
   "cell_type": "code",
   "execution_count": 22,
   "metadata": {
    "collapsed": false
   },
   "outputs": [
    {
     "data": {
      "image/png": "[encoded data removed]",
      "text/plain": [
       "<matplotlib.figure.Figure at 0x11a42e950>"
      ]
     },
     "metadata": {},
     "output_type": "display_data"
    }
   ],
   "source": [
    "# accomodations related variables\n",
    "accommodates = np.array(listings_df['accommodates'])\n",
    "bathrooms = [val for val in np.array(listings_df['bathrooms']) if ~np.isnan(val)]\n",
    "bedrooms = [val for val in np.array(listings_df['bedrooms']) if ~np.isnan(val)]\n",
    "beds = [val for val in np.array(listings_df['beds']) if ~np.isnan(val)]\n",
    "\n",
    "fig, ax = plt.subplots(2, 2, figsize=(15, 15))\n",
    "ax[0][0] = plot_histogram(accommodates, 'Number Accomondated in Listings Data', ax[0][0], 10)\n",
    "ax[0][1] = plot_histogram(bathrooms, 'Number of Bathrooms in Listings Data', ax[0][1], 10)\n",
    "\n",
    "ax[1][0] = plot_histogram(bedrooms, 'Number of Bedrooms in Listings Data', ax[1][0], 10)\n",
    "ax[1][1] = plot_histogram(beds, 'Number of Beds in Listings Data ', ax[1][1], 10)\n",
    "\n",
    "plt.tight_layout()\n",
    "plt.show()"
   ]
  },
  {
   "cell_type": "code",
   "execution_count": 23,
   "metadata": {
    "collapsed": false
   },
   "outputs": [
    {
     "data": {
      "image/png": "[encoded data removed]",
      "text/plain": [
       "<matplotlib.figure.Figure at 0x13bc42090>"
      ]
     },
     "metadata": {},
     "output_type": "display_data"
    }
   ],
   "source": [
    "# reviews related variables\n",
    "number_of_reviews = np.array(listings_df['number_of_reviews'])\n",
    "review_scores_rating = [val for val in np.array(listings_df['review_scores_rating']) if ~np.isnan(val)]\n",
    "review_scores_accuracy = [val for val in np.array(listings_df['review_scores_accuracy']) if ~np.isnan(val)]\n",
    "review_scores_cleanliness = [val for val in np.array(listings_df['review_scores_cleanliness']) if ~np.isnan(val)]\n",
    "review_scores_checkin = [val for val in np.array(listings_df['review_scores_checkin']) if ~np.isnan(val)]\n",
    "review_scores_communication = [val for val in np.array(listings_df['review_scores_communication']) if ~np.isnan(val)]\n",
    "review_scores_location = [val for val in np.array(listings_df['review_scores_location']) if ~np.isnan(val)]\n",
    "review_scores_value = [val for val in np.array(listings_df['review_scores_value']) if ~np.isnan(val)]\n",
    "\n",
    "fig, ax = plt.subplots(4, 2, figsize=(15, 15))\n",
    "ax[0][0] = plot_histogram(number_of_reviews, 'Number of Reviews in Listings Data', ax[0][0], 20)\n",
    "ax[0][1] = plot_histogram(review_scores_rating, 'Overall Reviews in Listings Data', ax[0][1], 10)\n",
    "\n",
    "ax[1][0] = plot_histogram(review_scores_accuracy, 'Accuracy Reviews in Listings Data', ax[1][0], 10)\n",
    "ax[1][1] = plot_histogram(review_scores_cleanliness, 'Cleanliness Reviews in Listings Data ', ax[1][1], 10)\n",
    "\n",
    "ax[2][0] = plot_histogram(review_scores_checkin, 'Check-In Reviews in Listings Data', ax[2][0], 10)\n",
    "ax[2][1] = plot_histogram(review_scores_communication, 'Communication Reviews in Listings Data', ax[2][1], 10)\n",
    "\n",
    "ax[3][0] = plot_histogram(review_scores_location, 'Location Reviews in Listings Data', ax[3][0], 10)\n",
    "ax[3][1] = plot_histogram(review_scores_value, 'Value Reviews in Listings Data ', ax[3][1], 10)\n",
    "\n",
    "plt.tight_layout()\n",
    "plt.show()"
   ]
  },
  {
   "cell_type": "code",
   "execution_count": 24,
   "metadata": {
    "collapsed": false
   },
   "outputs": [
    {
     "name": "stdout",
     "output_type": "stream",
     "text": [
      "Top Neighborhoods\n",
      "unspecified: 2027\n",
      "Williamsburg: 1878\n",
      "Upper West Side: 1307\n",
      "Upper East Side: 1183\n",
      "Hell's Kitchen: 1177\n",
      "Bedford-Stuyvesant: 1112\n",
      "Bushwick: 1023\n",
      "Lower East Side: 942\n",
      "Harlem: 861\n",
      "East Village: 842\n",
      "\n",
      "Top Zipcodes\n",
      "11211: 1200\n",
      "10002: 1130\n",
      "10009: 1062\n",
      "10003: 948\n",
      "10011: 855\n",
      "11238: 814\n",
      "10014: 797\n",
      "10019: 760\n",
      "11216: 697\n",
      "10012: 685\n",
      "\n",
      "Top Property Types\n",
      "Apartment: 24915\n",
      "House: 1575\n",
      "Loft: 601\n",
      "Bed & Breakfast: 170\n",
      "Dorm: 49\n",
      "Other: 48\n",
      "Boat: 11\n",
      "Treehouse: 6\n",
      "Villa: 4\n",
      "Cabin: 3\n"
     ]
    }
   ],
   "source": [
    "# categorical geographical variables by examining most frequent entries\n",
    "top_neighborhood = sorted(listings_df.groupby('neighbourhood').size().to_dict().items(), key=operator.itemgetter(1), reverse=True)\n",
    "top_zipcode = sorted(listings_df.groupby('zipcode').size().to_dict().items(), key=operator.itemgetter(1), reverse=True)\n",
    "top_property_type = sorted(listings_df.groupby('property_type').size().to_dict().items(), key=operator.itemgetter(1), reverse=True)\n",
    "\n",
    "print 'Top Neighborhoods'\n",
    "for k, v in top_neighborhood[:10]:\n",
    "    print str(k) + ': ' + str(v)\n",
    "    \n",
    "print '\\nTop Zipcodes'\n",
    "for k, v in top_zipcode[:10]:\n",
    "    print str(k) + ': ' + str(v)\n",
    "    \n",
    "print '\\nTop Property Types'\n",
    "for k, v in top_property_type[:10]:\n",
    "    print str(k) + ': ' + str(v)"
   ]
  },
  {
   "cell_type": "markdown",
   "metadata": {},
   "source": [
    "### Correlations between price and features of home"
   ]
  },
  {
   "cell_type": "code",
   "execution_count": 25,
   "metadata": {
    "collapsed": false
   },
   "outputs": [
    {
     "data": {
      "image/png": "[encoded data removed]",
      "text/plain": [
       "<matplotlib.figure.Figure at 0x13b983ed0>"
      ]
     },
     "metadata": {},
     "output_type": "display_data"
    }
   ],
   "source": [
    "# get correlations on price\n",
    "corrs_dict = (listings_df.corr())['price'].to_dict()\n",
    "\n",
    "# delete irrelevant features\n",
    "for var in ['price', 'weekly_price', 'monthly_price', 'scrape_id', 'host_id', 'listing_id']:\n",
    "    del corrs_dict[var]\n",
    "\n",
    "# sort by correlation value\n",
    "price_corrs = sorted(corrs_dict.items(), key=operator.itemgetter(1), reverse=True)\n",
    "\n",
    "# break into two lists\n",
    "features, corrs = zip(*price_corrs)\n",
    "\n",
    "# plot correlations\n",
    "fig, ax = plt.subplots(1, figsize=(10, 10))\n",
    "ax.set_ylabel('Correlation with Price')\n",
    "ax.set_xlabel('Feature')\n",
    "ax.set_title('Correlations Between Price and Various Features')\n",
    "plt.xticks(range(len(corrs)), features, rotation='vertical')\n",
    "ax.bar(range(len(corrs)), corrs, .5, color=\"blue\")\n",
    "plt.show()"
   ]
  },
  {
   "cell_type": "markdown",
   "metadata": {},
   "source": [
    "### Relationship between price and time"
   ]
  },
  {
   "cell_type": "code",
   "execution_count": 61,
   "metadata": {
    "collapsed": true
   },
   "outputs": [],
   "source": [
    "# method to convert date to day of week\n",
    "def get_day(date):\n",
    "    return datetime.datetime.strptime(date, '%Y-%m-%d').strftime('%A')"
   ]
  },
  {
   "cell_type": "code",
   "execution_count": 30,
   "metadata": {
    "collapsed": false
   },
   "outputs": [],
   "source": [
    "date_prices = {date: 0 for date in calendar_df['date'].unique()}\n",
    "day_prices = {get_day(date): 0 for date in calendar_df['date'].unique()}\n",
    "day_counts = {get_day(date): 0 for date in calendar_df['date'].unique()}\n",
    "\n",
    "for date in calendar_df['date'].unique():\n",
    "    prices = [p for p in np.array(calendar_df[calendar_df['date'] == date]['price']) if ~np.isnan(p)]\n",
    "    date_prices[date] = np.mean(prices)\n",
    "    day_prices[get_day(date)] += np.sum(prices)\n",
    "    day_counts[get_day(date)] += len(prices)"
   ]
  },
  {
   "cell_type": "code",
   "execution_count": 31,
   "metadata": {
    "collapsed": true
   },
   "outputs": [],
   "source": [
    "for day, price_sum in day_prices.iteritems():\n",
    "    day_prices[day] = float(day_prices[day]) / float(day_counts[day])"
   ]
  },
  {
   "cell_type": "code",
   "execution_count": 32,
   "metadata": {
    "collapsed": false
   },
   "outputs": [
    {
     "data": {
      "image/png": "[encoded data removed]",
      "text/plain": [
       "<matplotlib.figure.Figure at 0x172883990>"
      ]
     },
     "metadata": {},
     "output_type": "display_data"
    }
   ],
   "source": [
    "fig, ax = plt.subplots(1, 2, figsize=(16, 10))\n",
    "ordered_date_prices = [value for key, value in sorted(date_prices.items())]\n",
    "ax[0].scatter(range(367), ordered_date_prices)\n",
    "ax[1].scatter(range(7), [day_prices['Monday'], day_prices['Tuesday'], day_prices['Wednesday'], day_prices['Thursday'], day_prices['Friday'], day_prices['Saturday'], day_prices['Sunday']])\n",
    "\n",
    "# Label axes, set title\n",
    "ax[0].set_title('Average Nighly Price Over Time')\n",
    "ax[0].set_xlabel('Days after January 1')\n",
    "ax[0].set_ylabel('Average Price')\n",
    "\n",
    "ax[1].set_title('Average Nighly Price By Day of Week')\n",
    "ax[1].set_xlabel('Day of Week - Monday is 0')\n",
    "ax[1].set_ylabel('Average Price')\n",
    "\n",
    "plt.show()"
   ]
  },
  {
   "cell_type": "code",
   "execution_count": 91,
   "metadata": {
    "collapsed": false
   },
   "outputs": [],
   "source": [
    "# dictionary to contain means\n",
    "listing_means = {listing: 0 for listing in calendar_df['listing_id'].unique()}\n",
    "\n",
    "# calculate mean prices for each listing\n",
    "for listing in calendar_df['listing_id'].unique():\n",
    "    listing_means[listing] = np.mean(calendar_df[calendar_df['listing_id'] == listing]['price'])\n",
    "    \n",
    "# convert to numpy for efficiency\n",
    "prices = np.array(calendar_df['price'])\n",
    "ids = np.array(calendar_df['listing_id'])\n",
    "diff_means = []\n",
    "for i in range(len(prices)):\n",
    "    diff_means.append(prices[i] - listing_means[ids[i]])    "
   ]
  },
  {
   "cell_type": "code",
   "execution_count": 96,
   "metadata": {
    "collapsed": false
   },
   "outputs": [],
   "source": [
    "# calculate average difference from means over all listings\n",
    "avg_diff_means = {date: 0 for date in calendar_df['date'].unique()}\n",
    "for date, mean in avg_diff_means.iteritems():\n",
    "    avg_diff_means[date] = np.mean(calendar_df[calendar_df['date'] == date]['diff_mean'])\n",
    "    \n",
    "# calculate average difference from means by day of week\n",
    "# convert to numpy for speed\n",
    "dates = np.array(calendar_df['date'])\n",
    "day_avg_diff_means = {get_day(date): 0 for date in calendar_df['date'].unique()}\n",
    "for i in range(len(prices)):\n",
    "    day_avg_diff_means[get_day(dates[i])] += diff_means[i]\n",
    "for day, avg_diff in day_avg_diff_means.iteritems():\n",
    "    day_avg_diff_means[day] = float(day_avg_diff_means[day]) / float(day_counts[day])"
   ]
  },
  {
   "cell_type": "code",
   "execution_count": 97,
   "metadata": {
    "collapsed": false
   },
   "outputs": [
    {
     "data": {
      "image/png": "[encoded data removed]",
      "text/plain": [
       "<matplotlib.figure.Figure at 0x171cd8710>"
      ]
     },
     "metadata": {},
     "output_type": "display_data"
    }
   ],
   "source": [
    "fig, ax = plt.subplots(1, 2, figsize=(16, 10))\n",
    "ordered_avg_diff_means = [value for key, value in sorted(avg_diff_means.items())]\n",
    "ax[0].scatter(range(367), ordered_avg_diff_means)\n",
    "ax[1].scatter(range(7), [day_avg_diff_means['Monday'], day_avg_diff_means['Tuesday'], day_avg_diff_means['Wednesday'], day_avg_diff_means['Thursday'], day_avg_diff_means['Friday'], day_avg_diff_means['Saturday'], day_avg_diff_means['Sunday']])\n",
    "\n",
    "# Label axes, set title\n",
    "ax[0].set_title('Average Difference from Listing\\'s Own Mean Price')\n",
    "ax[0].set_xlabel('Days after January 1')\n",
    "ax[0].set_ylabel('Average Difference')\n",
    "\n",
    "ax[1].set_title('Average Difference from Listing\\'s Own Mean Price by Day of Week')\n",
    "ax[1].set_xlabel('Day of Week - Monday is 0')\n",
    "ax[1].set_ylabel('Average Difference')\n",
    "\n",
    "plt.show()"
   ]
  },
  {
   "cell_type": "code",
   "execution_count": 116,
   "metadata": {
    "collapsed": false
   },
   "outputs": [
    {
     "name": "stdout",
     "output_type": "stream",
     "text": [
      "Dates with lowest average differences from mean:\n",
      "2015-01-21, Wednesday: $-9.01\n",
      "2015-01-20, Tuesday: $-8.99\n",
      "2015-01-27, Tuesday: $-8.85\n",
      "2015-01-22, Thursday: $-8.76\n",
      "2015-01-26, Monday: $-8.76\n",
      "2015-01-19, Monday: $-8.71\n",
      "2015-01-28, Wednesday: $-8.68\n",
      "2015-01-14, Wednesday: $-8.6\n",
      "2015-01-13, Tuesday: $-8.59\n",
      "2015-01-15, Thursday: $-8.55\n",
      "2015-01-29, Thursday: $-8.48\n",
      "2015-01-12, Monday: $-8.44\n",
      "2015-01-25, Sunday: $-8.35\n",
      "2015-01-07, Wednesday: $-8.3\n",
      "2015-01-06, Tuesday: $-8.13\n",
      "\n",
      "Dates with highest average differences from mean:\n",
      "2015-05-08, Friday: $5.18\n",
      "2015-05-09, Saturday: $5.19\n",
      "2015-05-15, Friday: $5.22\n",
      "2015-07-03, Friday: $5.23\n",
      "2015-05-16, Saturday: $5.24\n",
      "2015-05-29, Friday: $5.24\n",
      "2015-05-30, Saturday: $5.24\n",
      "2015-07-04, Saturday: $5.25\n",
      "2015-05-02, Saturday: $5.29\n",
      "2015-05-01, Friday: $5.29\n",
      "2015-05-22, Friday: $5.39\n",
      "2015-05-23, Saturday: $5.42\n",
      "2015-01-03, Saturday: $5.44\n",
      "2015-01-02, Friday: $10.0\n",
      "2015-01-01, Thursday: $14.76\n"
     ]
    }
   ],
   "source": [
    "# examine priciest and cheapest dates\n",
    "sorted_avg_diffs = sorted(avg_diff_means.items(), key=lambda x: x[1])\n",
    "print 'Dates with lowest average differences from mean:'\n",
    "for date, diff in sorted_avg_diffs[:15]:\n",
    "    print date + ', ' + get_day(date) + ': $' + str(round(diff, 2))\n",
    "    \n",
    "print '\\nDates with highest average differences from mean:'\n",
    "for date, diff in sorted_avg_diffs[-15:]:\n",
    "    print date + ', ' + get_day(date) + ': $' + str(round(diff, 2))"
   ]
  },
  {
   "cell_type": "markdown",
   "metadata": {},
   "source": [
    "---"
   ]
  },
  {
   "cell_type": "markdown",
   "metadata": {},
   "source": [
    "## Summary of Work and Insights\n",
    "### Data Overview\n",
    "#### Formatting\n",
    "The data was retrieved from the data.beta.nyc website by zip file download. The only complication in storing the data is that since the file sizes are over 100MB, the files can not be stored on GitHub. If it proves necessary, GitHub Large File Storage may provide a solution for this issue.\n",
    "\n",
    "In each of the three datasets, (listings, calendar, and reviews), the data are well formatted overall in CSV format with one record (listing, listing-date, or review, respectively) per row. Given the varied nature of the data, Pandas is a good choice for initial processing, and each of the three datasets is read into its own Pandas data frame. Manual examination of the data shows that the 'id' field in the listings data set corresponds to the 'listing_id' fields in the reviews and calendar data, so joining on these fields is feasible, as demonstrated in the proof of concept above.\n",
    "\n",
    "There are occasional formatting irregularities throughout the data that have been fixed. For example, some fields contained excess parentheses or string data types where floats or booleans are more appropriate. The price fields were orignally encoded as strings with dollar sign and comma values. These were converted to floats for use in learning models. \n",
    "\n",
    "#### Missing Values\n",
    "While the datasets are very complete on average, there are a significant number of missing values. In the listings dataset, roughly 30% of all review scores, the vast majority of the square footage values, and low percentages of other listing characteristics are missing. In the calendar dataset, 28% of the listing-dates do not have price information. In the reviews dataset, an insignificant number of comments are missing.\n",
    "\n",
    "The missing values were handled in various ways to suit the nature of the data. Missing price data is a roadblock because it is inadvisable to attempt to impute missing response variables. Thus, records with missing price data are dropped. For categorical variables, it is imagninable that knowing which listings have descriptors absent is associated with the price (likely in a negative fashion). Therefore, missing categorical values were replaced with a new category 'unspecified'. Missing review values were imputed with the global mean, as the correlation between price and the majority of review metrics is so low that attempting to use regression for imputation would be useless. Likewise, the data are too noisy for KNN to be of use. For other continuous feature variables such as bedrooms, bathrooms, and beds with relatively high correlation with price, missing values were imputed using linear regression. \n",
    "\n",
    "After all imputation was finished, the only missing values were those of weekly and monthly prices. These missing values are potential response variables, and will be dealt with on an individual model basis.\n",
    "\n",
    "\n",
    "#### Size of Data\n",
    "There are a total of about 27,000 listings in the listings data set, each with 52 features. The calendar dataset contains one entry for each day of the year for each of the approximately 27,000 listings. The reviews dataset contains about 28,000 reviews for about 19,000 distinct listings. \n",
    "\n",
    "After cleaning, the majority of the data remains. All of the orignal listings remain in the data; over 70% of the calendar records are useful; and the vast majority of the reviews have complete comments.\n",
    "\n",
    "### Features and their Distributions\n",
    "There are three potential response variables in the data, nighly price, weekly price, and mothly price. Since over half of the weekly and monthly price data are not present, it seems reasonable to focus on predicting nightly price. Nightly prices are right-skewed, with a few very high outliers. The majority of the prices are below 300 dollars per night. The price distribution looks approximately lognormal, so a log transformation of the price variable resulting in a normal distribution of prices may play better with regression techniques.\n",
    "\n",
    "There are over fifty predictors in the listings dataset, both continuous and categorical. Histograms of the continuous variables of interest and lists of the most frequent categorical variables of interest appear above. Interesting factors to note are that the majority of listings have one bedroom and one bathroom, and that reviews are extremely left-skewed.\n",
    "\n",
    "### Correlations between Price and Features\n",
    "The Pearson correlations between price and each feature variable of interest is plotted above in decreasing order of correlation. From the chart, we see that the basic physical features of the listings are most strongly linearly related with price: number of individuals accomodated, number of beds and bedrooms, and number of bathrooms have the highest correlation values. The strongest negative linear relationships with price are for the number of listings by the given host, number of reviews, and the longitude of the listing. These results all make intuitive sense. Hosts with many listings may be less attentive to their tenants, tenants may be more inclined to leave a negative review, and knowledge of the demographics of New York supports the observed negative relationship between price and longitude.\n",
    "\n",
    "While studying these correlation values are useful, they only describe the magnitude of the linear relationship between price and the predictors, so additional visual anlaysis is necessary.\n",
    "\n",
    "### Relationship between Price and Time\n",
    "There are strong and interestings relationships between the prices of listings and both the time of year and the day of the week. Two different sets of statistics were computed to investigate these relationships. First, the simple average price over all the listings was calculated for each day of the year, and for each day of the week. Since this may overlook certain patterns, the differences between the price of a property on each day of the year and its average price throughout the year was also calculated, and averaged accross all the properties for each day of the year. \n",
    "\n",
    "Both sets of metrics show very similar trends. Late in the month of January is very cheap: all of the fifteen dates with the largest negative average difference from mean listing price occurred in the month of January. Most dates are up to 8 dollars cheaper on average. In striking contrast, early January (presumably because of New Years celebrations) are the most expensive, with the first few days averaging over 10 dollars more expensive than usual. The spring and early summer months are also more expensive by about 5 dollars on average for peak times. \n",
    "\n",
    "The relationship between the day of the week and the average difference in listing price from its mean is also very strong. Weekdays and Sunday are all similarly priced. However, Fridays and Saturdays average 3.50 dollars more expensive than weeknights.\n",
    "\n",
    "In the modelling stage, it is clear that time (in terms of both date and day of the week) will be an important feature. The interaction between the date and day of the week may also prove helpful."
   ]
  },
  {
   "cell_type": "code",
   "execution_count": null,
   "metadata": {
    "collapsed": true
   },
   "outputs": [],
   "source": []
  }
 ],
 "metadata": {
  "anaconda-cloud": {},
  "kernelspec": {
   "display_name": "Python [Root]",
   "language": "python",
   "name": "Python [Root]"
  },
  "language_info": {
   "codemirror_mode": {
    "name": "ipython",
    "version": 2
   },
   "file_extension": ".py",
   "mimetype": "text/x-python",
   "name": "python",
   "nbconvert_exporter": "python",
   "pygments_lexer": "ipython2",
   "version": "2.7.12"
  }
 },
 "nbformat": 4,
 "nbformat_minor": 0
}
